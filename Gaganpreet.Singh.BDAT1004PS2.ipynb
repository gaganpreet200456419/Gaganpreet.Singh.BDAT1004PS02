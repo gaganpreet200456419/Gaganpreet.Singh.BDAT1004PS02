{
 "cells": [
  {
   "cell_type": "code",
   "execution_count": 476,
   "metadata": {},
   "outputs": [],
   "source": [
    "#question1 : What value is displayed when the last expression (a) is evaluated?\n",
    "a = 0"
   ]
  },
  {
   "cell_type": "code",
   "execution_count": 477,
   "metadata": {},
   "outputs": [],
   "source": [
    "def b():\n",
    "    global a\n",
    "    a = c(a)"
   ]
  },
  {
   "cell_type": "code",
   "execution_count": 247,
   "metadata": {},
   "outputs": [],
   "source": [
    "def c(a):\n",
    "    return a + 2"
   ]
  },
  {
   "cell_type": "code",
   "execution_count": 249,
   "metadata": {},
   "outputs": [
    {
     "data": {
      "text/plain": [
       "12"
      ]
     },
     "execution_count": 249,
     "metadata": {},
     "output_type": "execute_result"
    }
   ],
   "source": [
    ">>> b()\n",
    ">>> b()\n",
    ">>> b()\n",
    ">>> a"
   ]
  },
  {
   "cell_type": "code",
   "execution_count": null,
   "metadata": {},
   "outputs": [],
   "source": [
    "#after every execution 6 more add into the existing one for instance when i will execute again the value will be 18"
   ]
  },
  {
   "cell_type": "code",
   "execution_count": null,
   "metadata": {},
   "outputs": [],
   "source": [
    "# question 2    As shown above, if the file cannot be found by the interpreter or if it cannot be read\n",
    "as a text file, an exception will be raised. Modify function fileLength() so that a\n",
    "friendly message is printed instead:"
   ]
  },
  {
   "cell_type": "code",
   "execution_count": 365,
   "metadata": {},
   "outputs": [],
   "source": [
    "def file_length(file_name):\n",
    "    try:\n",
    "        file =  open(file_name)\n",
    "        contents = file.read()\n",
    "        file.close()\n",
    "        print(len(contents))\n",
    "    except:\n",
    "           print(\"File\" + file_name + \"not found\")\n",
    "        "
   ]
  },
  {
   "cell_type": "code",
   "execution_count": 108,
   "metadata": {},
   "outputs": [
    {
     "name": "stdout",
     "output_type": "stream",
     "text": [
      "Filegagan.txtnot found\n"
     ]
    }
   ],
   "source": [
    "file_length(\"gagan.txt\")"
   ]
  },
  {
   "cell_type": "code",
   "execution_count": null,
   "metadata": {},
   "outputs": [],
   "source": [
    " # question 6  Write a recursive method binary() that takes a non-negative\n",
    "integer n and prints the binary representation of integer n."
   ]
  },
  {
   "cell_type": "code",
   "execution_count": 328,
   "metadata": {},
   "outputs": [
    {
     "name": "stdout",
     "output_type": "stream",
     "text": [
      "0111001000"
     ]
    }
   ],
   "source": [
    "def DecimalToBinary(n) : \n",
    "      \n",
    " \n",
    "    if (n == 0) : \n",
    "        print(\"0\",end=\"\");  \n",
    "        return; \n",
    "      \n",
    "    # Recursion method  \n",
    "    decimalToBinary(n // 2);  \n",
    "    print(n % 2,end=\"\");  \n",
    "  \n",
    "    \n",
    "if __name__ == \"__main__\" :  \n",
    "  \n",
    "    n = 456; \n",
    "    DecimalToBinary(n);  "
   ]
  },
  {
   "cell_type": "code",
   "execution_count": null,
   "metadata": {},
   "outputs": [],
   "source": [
    "# question number5  Your function should stop when the sequence gets to number 1. Y"
   ]
  },
  {
   "cell_type": "code",
   "execution_count": 330,
   "metadata": {},
   "outputs": [],
   "source": [
    "def printColtz(n): \n",
    "      \n",
    "    # I follow steps \n",
    "    # while I do not reach 1 \n",
    "    while n != 1: \n",
    "        print(n, end = ' ') \n",
    "  \n",
    "        # If n is odd  \n",
    "        if n & 1: \n",
    "            n = 3 * n + 1\n",
    "  \n",
    "        # If n is even  \n",
    "        else: \n",
    "            n = n // 2\n",
    "  \n",
    "    # Print 1 at the end  \n",
    "    print(n)"
   ]
  },
  {
   "cell_type": "code",
   "execution_count": 334,
   "metadata": {},
   "outputs": [
    {
     "name": "stdout",
     "output_type": "stream",
     "text": [
      "10 5 16 8 4 2 1\n"
     ]
    }
   ],
   "source": [
    "printColtz(10) "
   ]
  },
  {
   "cell_type": "code",
   "execution_count": null,
   "metadata": {},
   "outputs": [],
   "source": [
    "#question 10 word list,upper case,lower case,count word with lenght more the 4,length of word list?"
   ]
  },
  {
   "cell_type": "code",
   "execution_count": 346,
   "metadata": {},
   "outputs": [],
   "source": [
    "Word_list = ['The', 'quick', 'brown', 'fox', 'jumps', 'over',\n",
    "'the', 'lazy', 'dog']"
   ]
  },
  {
   "cell_type": "code",
   "execution_count": 347,
   "metadata": {},
   "outputs": [
    {
     "data": {
      "text/plain": [
       "['The', 'quick', 'brown', 'fox', 'jumps', 'over', 'the', 'lazy', 'dog']"
      ]
     },
     "execution_count": 347,
     "metadata": {},
     "output_type": "execute_result"
    }
   ],
   "source": [
    "Word_list"
   ]
  },
  {
   "cell_type": "code",
   "execution_count": 351,
   "metadata": {},
   "outputs": [
    {
     "data": {
      "text/plain": [
       "['THE', 'QUICK', 'BROWN', 'FOX', 'JUMPS', 'OVER', 'THE', 'LAZY', 'DOG']"
      ]
     },
     "execution_count": 351,
     "metadata": {},
     "output_type": "execute_result"
    }
   ],
   "source": [
    "[b.upper() for b in [\"The\", \"quick\", \"brown\", \"fox\", \"jumps\", \"over\",\n",
    "\"the\", \"lazy\", \"dog\"]]"
   ]
  },
  {
   "cell_type": "code",
   "execution_count": 352,
   "metadata": {},
   "outputs": [
    {
     "data": {
      "text/plain": [
       "['the', 'quick', 'brown', 'fox', 'jumps', 'over', 'the', 'lazy', 'dog']"
      ]
     },
     "execution_count": 352,
     "metadata": {},
     "output_type": "execute_result"
    }
   ],
   "source": [
    "[a.lower() for a in [\"The\", \"quick\", \"brown\", \"fox\", \"jumps\", \"over\",\n",
    "\"the\", \"lazy\", \"dog\"]]"
   ]
  },
  {
   "cell_type": "code",
   "execution_count": 357,
   "metadata": {},
   "outputs": [
    {
     "name": "stdout",
     "output_type": "stream",
     "text": [
      "3\n"
     ]
    }
   ],
   "source": [
    "def countWrd(list):\n",
    "    four = []\n",
    "    for i in (list):\n",
    "        if 4 < len(i):\n",
    "            four.append(i)\n",
    "        else:\n",
    "            continue\n",
    "    totalfour = len(four)\n",
    "    return totalfour\n",
    "\n",
    "print(countWords(['The', 'quick', 'brown', 'fox', 'jumps', 'over',\n",
    "                              'the', 'lazy', 'dog']))"
   ]
  },
  {
   "cell_type": "code",
   "execution_count": 362,
   "metadata": {},
   "outputs": [
    {
     "data": {
      "text/plain": [
       "<map at 0x21b63fd1940>"
      ]
     },
     "execution_count": 362,
     "metadata": {},
     "output_type": "execute_result"
    }
   ],
   "source": [
    " wordslist= \"the quick brown fox jumps over the lazy dog\"\n",
    "map(len, wordslist.split())"
   ]
  },
  {
   "cell_type": "code",
   "execution_count": 363,
   "metadata": {},
   "outputs": [
    {
     "data": {
      "text/plain": [
       "[3, 5, 5, 3, 5, 4, 3, 4, 3]"
      ]
     },
     "execution_count": 363,
     "metadata": {},
     "output_type": "execute_result"
    }
   ],
   "source": [
    "list(map(len, wordslist.split()))"
   ]
  },
  {
   "cell_type": "code",
   "execution_count": null,
   "metadata": {},
   "outputs": [],
   "source": [
    "#Question 3"
   ]
  },
  {
   "cell_type": "code",
   "execution_count": 366,
   "metadata": {},
   "outputs": [],
   "source": [
    "class Marsupial:\n",
    "    def __init__(self):\n",
    "        self.pouch = []\n",
    "        \n",
    "    def put_in_pouch(self,item):\n",
    "        self.pouch.append(item)    \n",
    "        \n",
    "    def pouch_contents(self):\n",
    "        return self.pouch "
   ]
  },
  {
   "cell_type": "code",
   "execution_count": 310,
   "metadata": {},
   "outputs": [],
   "source": [
    "m = Marsupial()"
   ]
  },
  {
   "cell_type": "code",
   "execution_count": 311,
   "metadata": {},
   "outputs": [
    {
     "data": {
      "text/plain": [
       "[]"
      ]
     },
     "execution_count": 311,
     "metadata": {},
     "output_type": "execute_result"
    }
   ],
   "source": [
    "m.pouch"
   ]
  },
  {
   "cell_type": "code",
   "execution_count": 312,
   "metadata": {},
   "outputs": [
    {
     "data": {
      "text/plain": [
       "['doll', 'firetruck', 'kitten']"
      ]
     },
     "execution_count": 312,
     "metadata": {},
     "output_type": "execute_result"
    }
   ],
   "source": [
    "m.put_in_pouch (\"doll\")\n",
    "m.put_in_pouch (\"firetruck\")\n",
    "m.put_in_pouch (\"kitten\")\n",
    "m.pouch_contents()"
   ]
  },
  {
   "cell_type": "code",
   "execution_count": 313,
   "metadata": {},
   "outputs": [],
   "source": [
    "class Kangaroo(Marsupial):\n",
    "    pass"
   ]
  },
  {
   "cell_type": "code",
   "execution_count": 314,
   "metadata": {},
   "outputs": [],
   "source": [
    "k = Kangaroo()"
   ]
  },
  {
   "cell_type": "code",
   "execution_count": 315,
   "metadata": {},
   "outputs": [
    {
     "data": {
      "text/plain": [
       "[]"
      ]
     },
     "execution_count": 315,
     "metadata": {},
     "output_type": "execute_result"
    }
   ],
   "source": [
    "k.pouch_contents()"
   ]
  },
  {
   "cell_type": "code",
   "execution_count": 316,
   "metadata": {},
   "outputs": [
    {
     "data": {
      "text/plain": [
       "['doll', 'firetruck', 'kitten']"
      ]
     },
     "execution_count": 316,
     "metadata": {},
     "output_type": "execute_result"
    }
   ],
   "source": [
    "k.put_in_pouch('doll')\n",
    "k.put_in_pouch('firetruck')\n",
    "k.put_in_pouch('kitten')\n",
    "k.pouch_contents()"
   ]
  },
  {
   "cell_type": "code",
   "execution_count": 408,
   "metadata": {},
   "outputs": [],
   "source": [
    "class Kangaroo(Marsupial):\n",
    "    def __init__(self, x, y):\n",
    "        self.x = x\n",
    "        self.y = y\n",
    "        super().__init()\n",
    "        "
   ]
  },
  {
   "cell_type": "code",
   "execution_count": 419,
   "metadata": {},
   "outputs": [],
   "source": [
    "Kangaroo = [0,0]"
   ]
  },
  {
   "cell_type": "code",
   "execution_count": 420,
   "metadata": {},
   "outputs": [],
   "source": [
    "x = 0\n",
    "y = 0"
   ]
  },
  {
   "cell_type": "code",
   "execution_count": 421,
   "metadata": {},
   "outputs": [
    {
     "name": "stdout",
     "output_type": "stream",
     "text": [
      "[0, 0]\n"
     ]
    }
   ],
   "source": [
    "print(Kangaroo)"
   ]
  },
  {
   "cell_type": "code",
   "execution_count": 432,
   "metadata": {},
   "outputs": [],
   "source": [
    "# question4 usi GUI mortgage calculator\n",
    "\"\"\"\n",
    "Created on Wednesday Oct 28 24:08:27 2020\n",
    "\n",
    "@author: Gagapreet\n",
    "\"\"\"\n",
    "\n",
    "\n",
    "\n",
    "\n",
    "\n",
    "from tkinter import Label, Button, RAISED, Entry\n",
    "import tkinter as tk\n",
    "root = tk.Tk()\n",
    "\n",
    "\n",
    "root.geometry(\"670x200\")\n",
    "buttons = [['MC', 'M+', 'M-', 'MR'],\n",
    "          ['C' , '\\u221a', 'x\\u00b2', '+' ],\n",
    "          ['7' , '8' , '9' , '-' ],\n",
    "          ['4' , '5' , '6' , '*' ],\n",
    "          ['1' , '2' , '3' , '/' ],\n",
    "          ['0' , '.' , '+-', '=' ]]\n",
    "\n",
    "\n",
    "for r in range (1,7):\n",
    "    for c in range (2,6):\n",
    "        w = Label(root, relief = RAISED, padx = 10, text = buttons[r-1][c-2])\n",
    "        w.grid(row = r, column = c)\n",
    "\n",
    "\n",
    "def show_entry_fields():\n",
    "    print(\"Loan Amount: %s\\nInterest Rate: %s\\nLoan Terms\" % (e1.get(), e2.get()))\n",
    "\n",
    "   # mortgage = tk.Tk()\n",
    "\n",
    "w =    tk.Label(root, \n",
    "         text=\"Loan Amount\").grid(row=0)\n",
    "w =    tk.Label(root, \n",
    "         text=\"Interest Rate\").grid(row=1)\n",
    "w =    tk.Label(root, \n",
    "         text=\"Loan Terms\").grid(row=2)\n",
    "\n",
    "\n",
    "label1 = tk.Entry(root)\n",
    "label2 = tk.Entry(root)\n",
    "label3 = tk.Entry(root)\n",
    "\n",
    "label4 = tk.Entry(root)\n",
    "label5 = tk.Entry(root)\n",
    "\n",
    "label1.grid(row=0, column=1)\n",
    "label2.grid(row=1, column=1)\n",
    "label3.grid(row=2, column=1)\n",
    "label4.grid(row=3, column=1)\n",
    "label5.grid(row=0, column=2,columnspan=4)\n",
    "\n",
    "tk.Button(root, \n",
    "          text='Computer Mortgage', \n",
    "          command=root.quit).grid(row=3, \n",
    "                                    column=0, \n",
    "                                    sticky=tk.W, \n",
    "                                   pady=4)\n",
    "\n",
    "\n",
    "\n",
    "\n",
    "root.mainloop()"
   ]
  }
 ],
 "metadata": {
  "kernelspec": {
   "display_name": "Python 3",
   "language": "python",
   "name": "python3"
  },
  "language_info": {
   "codemirror_mode": {
    "name": "ipython",
    "version": 3
   },
   "file_extension": ".py",
   "mimetype": "text/x-python",
   "name": "python",
   "nbconvert_exporter": "python",
   "pygments_lexer": "ipython3",
   "version": "3.8.3"
  }
 },
 "nbformat": 4,
 "nbformat_minor": 4
}
